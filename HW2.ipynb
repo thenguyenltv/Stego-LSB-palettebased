{
 "cells": [
  {
   "cell_type": "markdown",
   "metadata": {},
   "source": [
    "# HW2: Ẩn tin mật trên ảnh gif (ảnh palette-based) bằng phương pháp LSB\n",
    "\n",
    "\n",
    "Họ tên: Nguyễn Thế Anh\n",
    "\n",
    "MSSV: 20120248"
   ]
  },
  {
   "cell_type": "markdown",
   "metadata": {},
   "source": [
    "---"
   ]
  },
  {
   "cell_type": "markdown",
   "metadata": {},
   "source": [
    "## Nắm cách làm bài và nộp bài"
   ]
  },
  {
   "cell_type": "markdown",
   "metadata": {},
   "source": [
    "&#9889; Bạn lưu ý là mình sẽ dùng chương trình hỗ trợ chấm bài nên bạn cần phải tuân thủ chính xác qui định mà mình đặt ra, nếu không rõ thì hỏi, chứ không nên tự tiện làm theo ý của cá nhân.\n",
    "\n",
    "**Cách làm bài**\n",
    "\n",
    "Bạn sẽ làm trực tiếp trên file notebook này. Đầu tiên, bạn điền họ tên và MSSV vào phần đầu file ở bên trên. Trong file, bạn làm bài ở những chỗ có ghi là:\n",
    "```python\n",
    "# YOUR CODE HERE\n",
    "raise NotImplementedError()\n",
    "```\n",
    "hoặc đối với những phần code không bắt buộc thì là:\n",
    "```python\n",
    "# YOUR CODE HERE (OPTION)\n",
    "```\n",
    "hoặc đối với markdown cell thì là:\n",
    "```markdown\n",
    "YOUR ANSWER HERE\n",
    "```\n",
    "Tất nhiên, khi làm thì bạn xóa dòng `raise NotImplementedError()` đi.\n",
    "Đối những phần yêu cầu code thì thường ở ngay phía dưới sẽ có một (hoặc một số) cell chứa các bộ test để phần nào giúp bạn biết đã code đúng hay chưa; nếu chạy cell này không có lỗi gì thì có nghĩa là qua được các bộ test. Trong một số trường hợp, các bộ test có thể sẽ không đầy đủ; nghĩa là, nếu không qua được test thì là code sai, nhưng nếu qua được test thì chưa chắc đã đúng hoàn toàn.\n",
    "\n",
    "Trong khi làm bài, bạn có thể cho in ra màn hình, tạo thêm các cell để test. Nhưng khi nộp bài thì bạn xóa các cell mà bạn tự tạo, xóa hoặc comment các câu lệnh in ra màn hình. Bạn lưu ý <font color=red>không được tự tiện xóa các cell hay sửa code của Thầy</font> (trừ những chỗ được phép sửa như đã nói ở trên).\n",
    "\n",
    "Trong khi làm bài, thường xuyên `Ctrl + S` để lưu lại bài làm của bạn, tránh mất mát thông tin.\n",
    "\n",
    "*Nên nhớ mục tiêu chính ở đây là <font color=green>học, học một cách chân thật</font>.  Bạn có thể thảo luận ý tưởng với bạn khác cũng như tham khảo các nguồn trên mạng, nhưng sau cùng <font color=green>code và bài làm phải là của bạn, dựa trên sự hiểu thật sự của bạn</font> (khi tham khảo các nguồn trên mạng thì bạn cần ghi rõ nguồn trong bài làm, và đương nhiên là bạn cũng không được phép đưa code và bài làm cho bạn khác xem). <font color=red>Nếu vi phạm những điều này thì có thể bạn sẽ bị 0 điểm cho toàn bộ môn học.</font>*\n",
    "\n",
    "**Cách nộp bài**\n",
    "\n",
    "Khi chấm bài, đầu tiên mình sẽ chọn `Kernel` - `Restart Kernel & Run All Cells`, để restart và chạy tất cả các cell trong notebook của bạn; do đó, trước khi nộp bài, bạn nên chạy thử `Kernel` - `Restart Kernel & Run All Cells` để đảm bảo mọi chuyện diễn ra đúng như mong đợi.\n",
    "\n",
    "Sau đó, bạn tạo thư mục nộp bài theo cấu trúc sau:\n",
    "- Thư mục `MSSV` (vd, nếu bạn có MSSV là 1234567 thì bạn đặt tên thư mục là `1234567`)\n",
    "    - File `HW2.ipynb` (không cần nộp các file khác)\n",
    "\n",
    "Cuối cùng, bạn nén thư mục `MSSV` này lại với định dạng nén là .zip (chứ không được là .rar hay các định dạng khác) và nộp ở link trên moodle. \\\n",
    "<font color=red>Bạn lưu ý tuân thủ chính xác qui định nộp bài này.</font>"
   ]
  },
  {
   "cell_type": "markdown",
   "metadata": {},
   "source": [
    "## Kiểm tra môi trường code "
   ]
  },
  {
   "cell_type": "code",
   "execution_count": 1,
   "metadata": {},
   "outputs": [
    {
     "data": {
      "text/plain": [
       "'C:\\\\Python312\\\\python.exe'"
      ]
     },
     "execution_count": 1,
     "metadata": {},
     "output_type": "execute_result"
    }
   ],
   "source": [
    "import sys\n",
    "sys.executable"
   ]
  },
  {
   "cell_type": "markdown",
   "metadata": {},
   "source": [
    "Bạn nên thấy kết quả in ra là đường dẫn đến file chạy python của môi trường \"dh_ss-env\" mà mình đã hướng dẫn bạn cài đặt ở HW0."
   ]
  },
  {
   "cell_type": "markdown",
   "metadata": {},
   "source": [
    "## Import các thư viện cần thiết"
   ]
  },
  {
   "cell_type": "code",
   "execution_count": 2,
   "metadata": {},
   "outputs": [],
   "source": [
    "import numpy as np\n",
    "from PIL import Image\n",
    "import matplotlib.pyplot as plt"
   ]
  },
  {
   "cell_type": "markdown",
   "metadata": {},
   "source": [
    "## Cài đặt các hàm hỗ trợ"
   ]
  },
  {
   "cell_type": "code",
   "execution_count": 3,
   "metadata": {},
   "outputs": [],
   "source": [
    "# Ở HW1, ta dùng chuỗi bit (ví dụ: '101') \n",
    "# Ở HW này, ta sẽ dùng list các bit (ví dụ: [1, 0, 1]), vì như này sẽ dễ dàng hơn\n",
    "# cho việc nhúng và rút trích trong HW này\n",
    "def convert_s2bits(s):\n",
    "    '''\n",
    "    Chuyển chuỗi ký tự (ascii) thành list các bit.\n",
    "    '''\n",
    "    bits = []\n",
    "    for c in s:\n",
    "        c_bits = []\n",
    "        for bit in list(bin(ord(c))[2:].zfill(8)):\n",
    "            c_bits.append(int(bit))\n",
    "        bits.extend(c_bits)\n",
    "    return bits\n",
    "\n",
    "def convert_bits2s(bits):\n",
    "    '''\n",
    "    Chuyển list các bit thành chuỗi ký tự (ascii).\n",
    "    '''\n",
    "    s = ''\n",
    "    for i in range(0, len(bits), 8):\n",
    "        c_bits = ''\n",
    "        for bit in bits[i:i+8]:\n",
    "            c_bits = c_bits + str(bit)\n",
    "        c = chr(int(c_bits, 2))\n",
    "        s = s + c\n",
    "    return s"
   ]
  },
  {
   "cell_type": "code",
   "execution_count": 54,
   "metadata": {},
   "outputs": [],
   "source": [
    "# YOUR CODE HERE (OPTION)\n",
    "def add_padding(msg_arr, num_pixels_cover):\n",
    "    padding_length = num_pixels_cover - len(msg_arr)\n",
    "    padded_msg_arr = msg_arr + [1] + [0] * (padding_length - 1)\n",
    "    return padded_msg_arr\n",
    "\n",
    "def sub_uint(a, b):\n",
    "    # if a > b:\n",
    "    #     return a - b\n",
    "    # else:\n",
    "    #     return b - a\n",
    "    return a - b if a > b else b - a\n",
    "\n",
    "def get_parity(r, g, b):\n",
    "    return (r % 2 + g % 2 + b % 2) % 2\n",
    "\n",
    "# Mảng closest_palette:\n",
    "# - Mỗi phần tử là index của closest color với màu tương ứng trong bảng palette\n",
    "# Use to: i_th pixel in stego_img either itself or value of closest_palette[i_th]\n",
    "def create_closest_palette(palette):\n",
    "    closest_palette = np.zeros(palette[0].shape[0], dtype=int)\n",
    "    for i in range(palette[0].shape[0]):\n",
    "        min_distance = 500\n",
    "        parity_i = get_parity(palette[0][i][0], palette[0][i][1], palette[0][i][2])\n",
    "        for j in range(palette[0].shape[0]):\n",
    "            # No compare with: i_th and same parity in total RGB element\n",
    "            parity_palette = get_parity(palette[0][j][0], palette[0][j][1], palette[0][j][2])\n",
    "            if j != i and parity_i != parity_palette:\n",
    "                p1 = np.array(palette[0][i])\n",
    "                p2 = np.array(palette[0][j])\n",
    "                squared_dist = sub_uint(p1[0],p2[0])**2 + sub_uint(p1[1],p2[1])**2 + sub_uint(p1[2],p2[2])**2\n",
    "                rgb_euclidean_distance = np.sqrt(squared_dist) \n",
    "                if rgb_euclidean_distance < min_distance:\n",
    "                    closest_palette[i] = j\n",
    "                    min_distance = rgb_euclidean_distance\n",
    "                    \n",
    "    return closest_palette\n",
    "    "
   ]
  },
  {
   "cell_type": "markdown",
   "metadata": {},
   "source": [
    "## Cài đặt hàm nhúng (7đ, trong đó: phần code 5đ, phần nhận xét và giải thích kết quả 2đ)"
   ]
  },
  {
   "cell_type": "markdown",
   "metadata": {},
   "source": [
    "&#9889; Lưu ý:\n",
    "- Khi tính toán bạn cần để ý kiểu dữ liệu. Ví dụ, nếu lấy 2 giá trị có kiểu dữ liệu `uint8` trừ cho nhau thì kết quả cũng sẽ có kiểu `uint8` và sẽ bị sai.\n",
    "- Qui ước (để mình và bạn ra cùng kết quả): nếu trong bảng màu có nhiều màu thỏa điều kiện tìm kiếm thì lấy màu có chỉ số nhỏ nhất trong bảng màu. Nếu bạn có dùng hàm `sort` hay `argsort` của numpy thì bạn cần truyền tham số `kind=\"stable\"`; nếu không thì các phần tử có giá trị giống nhau có thể sẽ bị thay đổi thứ tự tương đối với nhau trong quá trình sort."
   ]
  },
  {
   "cell_type": "code",
   "execution_count": 55,
   "metadata": {
    "deletable": false,
    "nbgrader": {
     "cell_type": "code",
     "checksum": "4f4c16210d7c7b042ba01c55edf2c247",
     "grade": false,
     "grade_id": "cell-6b22986247c16055",
     "locked": false,
     "schema_version": 3,
     "solution": true,
     "task": false
    }
   },
   "outputs": [],
   "source": [
    "def embed(msg_file, cover_img_file, stego_img_file):\n",
    "    '''\n",
    "    Nhúng tin mật vào ảnh gif (ảnh palette-base) bằng phương pháp của Fridrich \n",
    "    (xem file slide lý thuyết \"05...\", trang 45). Khi nhúng thì bạn dùng phương\n",
    "    pháp thêm đuôi \"100...\" vào dãy bit của tin mật, và nhúng trên toàn bộ ảnh \n",
    "    theo thứ tự từ trái qua phải, từ trên xuống dưới.\n",
    "    \n",
    "    Các tham số:\n",
    "        msg_file (str): Tên file chứa secret message.\n",
    "        cover_img_file (str): Tên file chứa cover image.\n",
    "        stego_img_file (str): Tên file chứa stego image (kết quả sau khi nhúng).\n",
    "    Giá trị trả về:\n",
    "        bool: True nếu nhúng thành không, False nếu không đủ chỗ để nhúng. \n",
    "    '''\n",
    "    # Đọc cover img file\n",
    "    cover_img = Image.open(cover_img_file)\n",
    "    cover_pixels = np.array(cover_img)\n",
    "    palette = cover_img.getpalette() # Kết quả là list các giá trị Red, Green, Blue của các màu \n",
    "                                     # trong bảng màu, 3 giá trị liên tiếp ứng với một màu\n",
    "    palette = np.array(palette, dtype=np.uint8).reshape(1, -1, 3) # Reshape lại dưới dạng ảnh RGB\n",
    "    # plt.figure(); plt.yticks([]); plt.imshow(palette, aspect=20) # Uncomment để xem bảng màu\n",
    "    \n",
    "    # YOUR CODE HERE\n",
    "    # Đọc tin mật và chuyển đổi thành chuỗi bit\n",
    "    with open(msg_file, 'r') as f:\n",
    "        msg_bytes = f.read()\n",
    "    msg_arr = convert_s2bits(msg_bytes)\n",
    "    # Thêm \"100...\" vào dãy bit nếu cần\n",
    "    num_pixels_cover = len(cover_pixels) * len(cover_pixels[0])\n",
    "    if num_pixels_cover > len(msg_arr):\n",
    "        msg_arr = add_padding(msg_arr, num_pixels_cover)\n",
    "    else:\n",
    "        return False\n",
    "\n",
    "    # Tạo mảng closest_palette, mỗi phần tử là index của closest color với màu tương ứng trong bảng palette\n",
    "    closest_palette = create_closest_palette(palette)\n",
    "    \n",
    "    # Nhúng tin mật vào ảnh\n",
    "    bit_index = 0\n",
    "    stego_pixels = np.copy(cover_pixels)\n",
    "    for i in range(cover_pixels.shape[0]):\n",
    "        for j in range(cover_pixels.shape[1]):\n",
    "            # Kiểm tra tính chãn lẻ của pixel so với secret_bit\n",
    "            color = palette[0][cover_pixels[i, j]]\n",
    "            parity = get_parity(color[0], color[1], color[2])\n",
    "            if parity == msg_arr[bit_index]:\n",
    "                bit_index += 1\n",
    "                continue\n",
    "            stego_pixels[i, j] = closest_palette[cover_pixels[i, j]]\n",
    "            bit_index += 1\n",
    "    \n",
    "    # Ghi stego pixels cùng palette xuống file\n",
    "    stego_img = Image.fromarray(stego_pixels)\n",
    "    stego_img.putpalette(cover_img.getpalette())\n",
    "    stego_img.save(stego_img_file)\n",
    "    return True"
   ]
  },
  {
   "cell_type": "code",
   "execution_count": 14,
   "metadata": {
    "deletable": false,
    "editable": false,
    "nbgrader": {
     "cell_type": "code",
     "checksum": "872fcbb20ecd7940e3a9a8a7580610fb",
     "grade": true,
     "grade_id": "cell-05bfc2d02048d178",
     "locked": true,
     "points": 0.5,
     "schema_version": 3,
     "solution": false,
     "task": false
    }
   },
   "outputs": [],
   "source": [
    "# TEST \n",
    "result = embed('msg2.txt', 'lena.gif', 'lena_stego.gif')\n",
    "assert result == False"
   ]
  },
  {
   "cell_type": "code",
   "execution_count": 56,
   "metadata": {
    "deletable": false,
    "editable": false,
    "nbgrader": {
     "cell_type": "code",
     "checksum": "685ce815f77212228f4daa3ce0eb50af",
     "grade": true,
     "grade_id": "cell-03e5ced35879692f",
     "locked": true,
     "points": 2.25,
     "schema_version": 3,
     "solution": false,
     "task": false
    }
   },
   "outputs": [],
   "source": [
    "# TEST             \n",
    "result = embed('msg.txt', 'lena.gif', 'lena_stego.gif')\n",
    "assert result == True\n",
    "stego_img = Image.open('lena_stego.gif')\n",
    "stego_pixels = np.array(stego_img)\n",
    "stego_palette = stego_img.getpalette()\n",
    "correct_stego_img = Image.open('correct_lena_stego.gif')\n",
    "correct_stego_pixels = np.array(correct_stego_img)\n",
    "correct_stego_palette = correct_stego_img.getpalette()\n",
    "assert np.all(stego_pixels == correct_stego_pixels)\n",
    "assert stego_palette == correct_stego_palette"
   ]
  },
  {
   "cell_type": "code",
   "execution_count": 57,
   "metadata": {
    "deletable": false,
    "editable": false,
    "nbgrader": {
     "cell_type": "code",
     "checksum": "ae9c2019a7c7171aecb75fe6ac42fec1",
     "grade": true,
     "grade_id": "cell-955c9ea844d659e9",
     "locked": true,
     "points": 2.25,
     "schema_version": 3,
     "solution": false,
     "task": false
    }
   },
   "outputs": [],
   "source": [
    "# TEST             \n",
    "result = embed('msg.txt', 'baboon.gif', 'baboon_stego.gif')\n",
    "assert result == True\n",
    "stego_img = Image.open('baboon_stego.gif')\n",
    "stego_pixels = np.array(stego_img)\n",
    "stego_palette = stego_img.getpalette()\n",
    "correct_stego_img = Image.open('correct_baboon_stego.gif')\n",
    "correct_stego_pixels = np.array(correct_stego_img)\n",
    "correct_stego_palette = correct_stego_img.getpalette()\n",
    "assert np.all(stego_pixels == correct_stego_pixels)\n",
    "assert stego_palette == correct_stego_palette"
   ]
  },
  {
   "cell_type": "markdown",
   "metadata": {},
   "source": [
    "Xem các ảnh và so sánh tính vô hình khi nhúng trên ảnh \"lena.gif\" với khi nhúng trên ảnh \"baboon.gif\". Theo bạn, tại sao lại như vậy? (Nếu nghĩ mãi mà bạn vẫn không biết tại sao thì bạn cứ nói là không biết tại sao.)"
   ]
  },
  {
   "cell_type": "markdown",
   "metadata": {
    "deletable": false,
    "nbgrader": {
     "cell_type": "markdown",
     "checksum": "f893843878e97b85f68a23ee68ad571c",
     "grade": true,
     "grade_id": "cell-ac94d86414e139cb",
     "locked": false,
     "points": 2,
     "schema_version": 3,
     "solution": true,
     "task": false
    }
   },
   "source": [
    "YOUR ANSWER HERE\n",
    "\n",
    "**So sánh sau khi nhúng trên lena.gif và baboon.gif:**\n",
    "- Tính vô hình baboon_stego.gif cao hơn hẳn lena_stego.gif\n",
    "- Khi nhìn bằng mắt thường, baboon_stego.gif dường như y hệt ảnh gốc baboon.gif \n",
    "- Còn lena_stego.gif xuất hiện nhiều màu thậm chí là mảng màu dễ dàng nhận biết bằng mắt thường khi so với ảnh gốc lena.gif.\n",
    "\n",
    "**Giải thích:**\n",
    "- Lý do chính là sự đa dạng về sắc thái trong bảng màu palette. Ví dụ màu đỏ, bảng palette của baboon.gif có nhiều sắc thái, biến thể từ cam, đỏ nhạt, đỏ đậm,... Do đó, khi chọn 1 màu khác thay thế để nhúng, sự khác nhau sẽ là nhỏ hơn khi so với sự nghèo nàn trong bảng màu ở hình lena.gif.\n",
    "- Một yếu tố khác là con người có khả năng miễn dịch tốt hơn với việc mất mát các thành phần tần số không gian cao hơn so với việc mất các thành phần tần số thấp hơn. Tức là ảnh baboon.gif có nhiều mảng màu có sự thay đổi liên tục và phong phú về màu sắc hơn so với ảnh lena.gif chỉ tồn tại 1 vài gam màu cơ bản."
   ]
  },
  {
   "cell_type": "markdown",
   "metadata": {
    "tags": []
   },
   "source": [
    "## Cài đặt hàm rút trích (3đ)"
   ]
  },
  {
   "cell_type": "code",
   "execution_count": 58,
   "metadata": {
    "deletable": false,
    "nbgrader": {
     "cell_type": "code",
     "checksum": "ee8db4ddc5f92f08a65482495415e2ff",
     "grade": false,
     "grade_id": "cell-2ce99db3aa221d29",
     "locked": false,
     "schema_version": 3,
     "solution": true,
     "task": false
    }
   },
   "outputs": [],
   "source": [
    "def extract(stego_img_file, extr_msg_file):\n",
    "    '''\n",
    "    Rút trích tin mật đã được nhúng vào ảnh bằng phương pháp của Fridrich \n",
    "    (xem file slide lý thuyết \"05...\", trang 47).\n",
    "    \n",
    "    Các tham số:\n",
    "        stego_img_file (str): Tên file chứa stego image.\n",
    "        extr_msg_file (str): Tên file chứa secret message được rút trích.\n",
    "    '''\n",
    "\n",
    "    # YOUR CODE HERE\n",
    "    # Đọc stego img file\n",
    "    stego_img = Image.open(stego_img_file)\n",
    "    stego_pixels = np.array(stego_img)\n",
    "    palette = stego_img.getpalette()\n",
    "    palette = np.array(palette, dtype=np.uint8).reshape(1, -1, 3)\n",
    "    \n",
    "    msg_bits = ''.join(str(palette[0, stego_pixels[i, j]].sum() % 2)\n",
    "                             for i in range(stego_pixels.shape[0])\n",
    "                             for j in range(stego_pixels.shape[1]))\n",
    "  \n",
    "    # bỏ tail 100.. từ extracted_msg_bits\n",
    "    extracted_msg = convert_bits2s(msg_bits.rstrip(\"0\")[:-1])\n",
    "    with open(extr_msg_file, 'w') as f:\n",
    "        f.write(extracted_msg)"
   ]
  },
  {
   "cell_type": "code",
   "execution_count": 59,
   "metadata": {
    "deletable": false,
    "editable": false,
    "nbgrader": {
     "cell_type": "code",
     "checksum": "019abd2a511efc687a3dc0083a56b338",
     "grade": true,
     "grade_id": "cell-f901a6c28df966e1",
     "locked": true,
     "points": 3,
     "schema_version": 3,
     "solution": false,
     "task": false
    }
   },
   "outputs": [],
   "source": [
    "# TEST\n",
    "extract('correct_baboon_stego.gif', 'extr_msg.txt')\n",
    "with open('extr_msg.txt', 'r') as f:\n",
    "    extr_msg = f.read()\n",
    "with open('msg.txt', 'r') as f:\n",
    "    correct_extr_msg = f.read()\n",
    "assert extr_msg == correct_extr_msg"
   ]
  },
  {
   "cell_type": "code",
   "execution_count": null,
   "metadata": {},
   "outputs": [],
   "source": []
  }
 ],
 "metadata": {
  "anaconda-cloud": {},
  "kernelspec": {
   "display_name": "Python 3 (ipykernel)",
   "language": "python",
   "name": "python3"
  },
  "language_info": {
   "codemirror_mode": {
    "name": "ipython",
    "version": 3
   },
   "file_extension": ".py",
   "mimetype": "text/x-python",
   "name": "python",
   "nbconvert_exporter": "python",
   "pygments_lexer": "ipython3",
   "version": "3.12.2"
  },
  "toc": {
   "base_numbering": 1,
   "nav_menu": {},
   "number_sections": false,
   "sideBar": true,
   "skip_h1_title": true,
   "title_cell": "Table of Contents",
   "title_sidebar": "Contents",
   "toc_cell": false,
   "toc_position": {
    "height": "calc(100% - 180px)",
    "left": "10px",
    "top": "150px",
    "width": "165px"
   },
   "toc_section_display": true,
   "toc_window_display": true
  }
 },
 "nbformat": 4,
 "nbformat_minor": 4
}
